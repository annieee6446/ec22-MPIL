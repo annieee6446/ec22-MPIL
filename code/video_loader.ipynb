{
 "cells": [
  {
   "cell_type": "code",
   "execution_count": null,
   "id": "4c5d0300",
   "metadata": {},
   "outputs": [],
   "source": [
    "import glob\n",
    "import joblib\n",
    "import pandas as pd\n",
    "import numpy as np\n",
    "from itertools import islice\n",
    "\n",
    "import sunpy.map\n",
    "from sunpy.coordinates import frames\n",
    "from sunpy.map.mapbase import GenericMap\n",
    "from sunpy.map.sources import MDIMap\n",
    "from sunpy.util.metadata import MetaDict\n",
    "\n",
    "import matplotlib.pyplot as plt\n",
    "\n",
    "import cv2\n",
    "import os\n",
    "from PIL import Image\n",
    "\n",
    "from IPython.display import Video\n",
    "\n",
    "import warnings\n",
    "warnings.filterwarnings('ignore')"
   ]
  },
  {
   "cell_type": "code",
   "execution_count": null,
   "id": "14f098ab",
   "metadata": {},
   "outputs": [],
   "source": [
    "path = \"/data/SHARPS/raw-sharps/377/\"\n",
    "pil_ropi_from = \"/data/MPIL/HMI_PIL/377/\""
   ]
  },
  {
   "cell_type": "code",
   "execution_count": null,
   "id": "76c5e332",
   "metadata": {},
   "outputs": [],
   "source": [
    "def build_images(b_path, f_path):\n",
    "    backgrounds = glob.glob(b_path + \"/*magnetogram*.fits\") \n",
    "    foregrounds_pil = glob.glob(f_path + \"/*_PIL*.png\")\n",
    "    foregrounds_ropi = glob.glob(f_path + \"/*RoPI*.png\")\n",
    "    \n",
    "    def mask_img(img):\n",
    "        return np.ma.masked_where(img.astype(float) == 0, img.astype(float))\n",
    "  \n",
    "\n",
    "    def apply_params(background, pil, ropi, date):\n",
    "        hmi_magmap = sunpy.map.Map(background)\n",
    "        \n",
    "        ropi_mask = mask_img(plt.imread(ropi))\n",
    "        pil_mask = mask_img(plt.imread(pil))\n",
    "        \n",
    "        cmap = plt.cm.spring\n",
    "        cmap = cmap.set_bad(color='white')\n",
    "\n",
    "        fig = plt.figure(figsize=(10,8))\n",
    "        hmi_magmap.plot()\n",
    "        plt.xlabel('Carrington Longitude [deg]', fontsize = 16)\n",
    "        plt.ylabel('Latitude [deg]', fontsize = 16)\n",
    "        plt.imshow(ropi_mask, 'cool', interpolation='none', alpha=0.2)\n",
    "        plt.imshow(pil_mask, cmap, interpolation='none', alpha=1)\n",
    "        \n",
    "        file_path = os.path.join(\"/home/nkhasayeva1/Results\", date + '.png')\n",
    "        plt.savefig(file_path)\n",
    "    \n",
    "    for bg in backgrounds:\n",
    "        b_date = bg.split('_TAI')[0].split('.', 3)[-1].replace('_', '')\n",
    "        print(b_date)\n",
    "        for pil in foregrounds_pil:\n",
    "            date = pil.split('_BLOS')[0].split('_', 2)[-1]\n",
    "            pil_date = date.replace('-','').replace(':','')\n",
    "            print(pil_date)\n",
    "            if(b_date == pil_date): \n",
    "                print('hi')\n",
    "                ropi = glob.glob(f_path + \"/*\" + date + \"*RoPI*.png\")\n",
    "                apply_params(bg, pil, ropi[0], date)"
   ]
  },
  {
   "cell_type": "code",
   "execution_count": 2,
   "id": "ae80e92d",
   "metadata": {},
   "outputs": [],
   "source": [
    "def display_video(path):\n",
    "    img_array = []\n",
    "    file_name = 'mag.mp4'\n",
    "    for filename in glob.glob(path + '*.png'): \n",
    "        img = cv2.imread(filename)\n",
    "        height, width, layers = img.shape\n",
    "        size = (width, height)\n",
    "        img_array.append(img)\n",
    "    \n",
    "        out = cv2.VideoWriter(file_name, cv2.VideoWriter_fourcc(*'VP90'), 1, size)\n",
    "     \n",
    "    for i in range(len(img_array)):\n",
    "        out.write(img_array[i])\n",
    "        out.release()\n",
    "    \n",
    "    Video(file_name, embed=True)"
   ]
  }
 ],
 "metadata": {
  "kernelspec": {
   "display_name": "Python 3",
   "language": "python",
   "name": "python3"
  },
  "language_info": {
   "codemirror_mode": {
    "name": "ipython",
    "version": 3
   },
   "file_extension": ".py",
   "mimetype": "text/x-python",
   "name": "python",
   "nbconvert_exporter": "python",
   "pygments_lexer": "ipython3",
   "version": "3.8.8"
  }
 },
 "nbformat": 4,
 "nbformat_minor": 5
}
